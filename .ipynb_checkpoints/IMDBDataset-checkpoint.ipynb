{
 "cells": [
  {
   "cell_type": "code",
   "execution_count": 146,
   "id": "048f63f1",
   "metadata": {},
   "outputs": [],
   "source": [
    "# Imports\n",
    "import numpy as np\n",
    "import pandas as pd\n",
    "import re\n",
    "import seaborn as sns\n",
    "import scipy\n",
    "import contractions\n",
    "import matplotlib.pyplot as plt\n",
    "%matplotlib inline\n",
    "\n",
    "import spacy\n",
    "nlp = spacy.load(\"en_core_web_sm\")\n",
    "\n",
    "from sklearn.model_selection import train_test_split\n",
    "from sklearn.preprocessing import LabelEncoder"
   ]
  },
  {
   "cell_type": "code",
   "execution_count": 147,
   "id": "40c6ffd6",
   "metadata": {},
   "outputs": [
    {
     "name": "stdout",
     "output_type": "stream",
     "text": [
      "Data Set Size: (1000, 2)\n"
     ]
    }
   ],
   "source": [
    "# Reading CSV File into Pandas DataFrame\n",
    "df = pd.read_csv('Data/IMDB Dataset.csv',\n",
    "                 nrows = 1000)\n",
    "df['review'] = df['review'].str.lower()\n",
    "df['sentiment'] = df['sentiment'].str.replace('none', '')\n",
    "df['sentiment'] = df['sentiment'].fillna('')\n",
    "print('Data Set Size:', df.shape)"
   ]
  },
  {
   "cell_type": "code",
   "execution_count": 148,
   "id": "62ee4aaa",
   "metadata": {},
   "outputs": [],
   "source": [
    "# Label Encoding\n",
    "label_encoder = LabelEncoder()\n",
    "df['sentiment'] = label_encoder.fit_transform(df['sentiment'])\n",
    "# print(df['sentiment'])"
   ]
  },
  {
   "cell_type": "code",
   "execution_count": 149,
   "id": "c9eeb603",
   "metadata": {},
   "outputs": [],
   "source": [
    "# Text Lemmatization\n",
    "def lemmatization(text):\n",
    "    doc = nlp(text)\n",
    "    temp_list = []\n",
    "    for token in doc:\n",
    "        temp_list.append(token)\n",
    "    return ' '.join(map(str, temp_list))"
   ]
  },
  {
   "cell_type": "code",
   "execution_count": 150,
   "id": "b7153983",
   "metadata": {},
   "outputs": [],
   "source": [
    "# Pre-Process Text\n",
    "def preprocess_text(text):\n",
    "    # Removing all HTML Tags\n",
    "    text = re.sub(r'<.*?>', '', text)\n",
    "    # Removing links\n",
    "    text = re.sub(r'http\\S+', '', text)\n",
    "    # Remove Text Contractions\n",
    "    text = contractions.fix(text)\n",
    "    # Removing special characters and numbers\n",
    "    text = re.sub(r'[^A-Za-z0-9]+', ' ', text)\n",
    "    # Lemmatization\n",
    "    text = lemmatization(text)\n",
    "    # Removing single characters\n",
    "    text = re.sub(r's+[a-zA-Z]s+', '', text)\n",
    "    # Replacing multi-spaces by a single space\n",
    "    text = re.sub(r'\\s+', ' ', text)\n",
    "    return text"
   ]
  },
  {
   "cell_type": "code",
   "execution_count": 151,
   "id": "5976c4f2",
   "metadata": {},
   "outputs": [
    {
     "name": "stdout",
     "output_type": "stream",
     "text": [
      "['one of the other reviewers has mentioned that after watching just 1 oz episode you will be hooked they are right as this is exactly what happened with me the first thing that struck me about oz was its brutality and unflinching scenes of violence which set in right from the word go trust me this is not a show for the faint hearted or timid this show pulls no punches with regards to drugs sex or violence its is hardcore in the classic use of the word it is called oz as that is the nickname given to the oswald maximum security state penitentary it focu mainly on emerald city an experimental section of the prison where all the cells have glass fronts and face inwards so privacy is not high on the agenda them city is home to many aryans muslims gangstas latinos christians italians irish and more so scuffles death stares dodgy dealings and shady agreements are never far away i would say the main appeal of the show is due to the fact that it goes where other shows would not dare forget pretty pictures painted for mainstream audiences forget charm forget romance oz does not mess around the first episode i ever saw struck me as so nasty it was surreal i could not say i was ready for it but as i watched more i developed a taste for oz and got accustomed to the high levels of graphic violence not just violence but injustice crooked guards who will be sold out for a nickel inmates who will kill on order and get away with it well mannered middle class inmates being turned into prison bitches due to their lack of street skills or prison experience watching oz you may become comfortable with what is uncomfortable viewing that is if you can get in touch with your darker side', 'a wonderful little production the filming technique is very unassuming very old time bbc fashion and gives a comforting and sometimes discomforting sense of realism to the entire piece the actors are extremely well chosen michael sheen not only has got all the polari but he has all the voices down pat too you can truly see the seamless editing guided by the references to williams diary entries not only is it well worth the watching but it is a terrificly written and performed piece a masterful production about one of the great master s of comedy and his life the realism really comes home with the little things the fantasy of the guard which rather than use the traditional dream techniques remains solid then disappears it plays on our knowledge and our sen particularly with the scenes concerning orton and halliwell and the sets particularly of their flat with halliwell s murals decorating every surface are terribly well done', 'i thought this was a wonderful way to spend time on a too hot summer weekend sitting in the air conditioned theater and watching a light hearted comedy the plot is simplistic but the dialogue is witty and the characters are likable even the well bread pected serial killer while some may be disappointed when they realize this is not match point 2 risk addiction i thought it was proof that woody allen is still fully in control of the style many of us have grown to love this was the most i would laughed at one of woody s comedies in years dare i say a decade while i have never been impressed with scarlet johanson in this she managed to tone down her sexy image and jumped right into a average but spirited young woman this may not be the crown jewel of his career but it was wittier than devil wears prada and more interesting than superman a great comedy to go see with friends', 'basically there is a family where a little boy jake thinks there is a zombie in his closet his parents are fighting all the time this movie is slower than a soap opera and suddenly jake decides to become rambo and kill the zombie ok first of all when you are going to make a film you must decide if its a thriller or a drama as a drama the movie is watchable parents are divorcing arguing like in real life and then we have jake with his closet which totally ruins all the film i expected to see a boogeyman similar movie and instead i watched a drama with some meaningless thriller spots 3 out of 10 just for the well playing parents descent dialogs as for the shots with jake just ignore them', 'petter mattei s love in the time of money is a visually stunning film to watch mr mattei offers us a vivid portrait about human relations this is a movie that seems to be telling us what money power and success do to people in the different situations we encounter this being a variation on the arthur schnitzler s play about the same theme the director transfers the action to the present time new york where all these different characters meet and connect each one is connected in one way or another to the next person but no one seems to know the previous point of contact stylishly the film has a sophisticated luxurious look we are taken to see how these people live and the world they live in their own habitat the only thing one gets out of all these souls in the picture is the different stages of loneliness each one inhabits a big city is not exactly the best place in which human relations find sincere fulfillment as one discerns is the case with most of the people we encounter the acting is good under mr mattei s direction steve buscemi rosario dawson carol kane michael imperioli adrian grenier and the rest of the talented cast make these characters come alive we wish mr mattei good luck and await anxiously for his next work', 'probably my all time favorite movie a story of selflessness sacrifice and dedication to a noble because but it is not preachy or boring it just never gets old despite my having seen it some 15 or more times in the last 25 years paul lukas performance brings tears to my eyes and bette davis in one of her very few truly sympathetic roles is a delight the kids are as grandma says more like dressed up midgets than children but that only makes them more fun to watch and the mother s slow awakening to what is happening in the world and under her own roof is believable and startling if i had a dozen thumbs they would all be up for this movie', 'i sure would like to see a resurrection of a up dated seahunt series with the tech they have today it would bring back the kid excitement in me i grew up on black and white tv and seahunt with gunsmoke were my hero s every week you have my vote for a comeback of a new sea hunt we need a change of pace in tv and this would work for a world of under water adventure oh by the way thank you for an outlet like this to view many viewpoints about tv and the many movies so any ole way i believe i have got what i want to say would be nice to read some more plus points about sea hunt if my rhymes would be 10 lines would you let me submit or leave me out to be in doubt and have me to quit if this is so then i must go so let us do it', 'this show was an amazing fresh innovative idea in the 70 s when it first aired the first 7 or 8 years were brilliant but things dropped off after that by 1990 the show was not really funny anymore and it is continued its decline further to the complete waste of time it is today it is truly disgraceful how far this show has fallen the writing is painfully bad the performances are almost as bad if not for the mildly entertaining respite of the guest ho this show probably would not still be on the air i find it so hard to believe that the same creator that hand selected the original cast also chose the band of hacks that followed how can one recognize such brilliance and then see fit to replace it with such mediocrity i felt i must give 2 stars out of respect for the original cast that made this show such a huge success as it is now the show is just awful i can not believe it is still on the air', 'encouraged by the positive comments about this film on here i was looking forward to watching this film bad mistake i have seen 950 films and this is truly one of the worst of them it is awful in almost every way editing pacing storyline acting soundtrack the film s only song a lame country tune is played no less than four times the film looks cheap and nasty and is boring in the extreme rarely have i been so happy to see the end credits of a film the only thing that prevents me giving this a 1 score is harvey keitel while this is far from his best performance he at least seems to be making a bit of an effort one for keitel obives only', 'if you like original gut wrenching laughter you will like this movie if you are young or old then you will love this movie hell even my mom liked it great camp']\n"
     ]
    }
   ],
   "source": [
    "x = df['review']\n",
    "x_corpus = []\n",
    "for idx, row in x.items():\n",
    "    sentence = preprocess_text(row)\n",
    "    x_corpus.append(sentence)\n",
    "print(x_corpus[0:2])\n",
    "\n",
    "y = df['sentiment']\n",
    "\n",
    "# Splitting the dataset into the Training set and Validation set\n",
    "np.random.seed(32)\n",
    "x_train, x_test, y_train, y_test = train_test_split(x_corpus, \n",
    "                                                    y, \n",
    "                                                    random_state = 0, \n",
    "                                                    test_size = 0.1, \n",
    "                                                    shuffle = True)"
   ]
  },
  {
   "cell_type": "code",
   "execution_count": null,
   "id": "8b4f7d55",
   "metadata": {},
   "outputs": [],
   "source": []
  }
 ],
 "metadata": {
  "kernelspec": {
   "display_name": "Python 3 (ipykernel)",
   "language": "python",
   "name": "python3"
  },
  "language_info": {
   "codemirror_mode": {
    "name": "ipython",
    "version": 3
   },
   "file_extension": ".py",
   "mimetype": "text/x-python",
   "name": "python",
   "nbconvert_exporter": "python",
   "pygments_lexer": "ipython3",
   "version": "3.10.7"
  }
 },
 "nbformat": 4,
 "nbformat_minor": 5
}
