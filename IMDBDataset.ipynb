{
 "cells": [
  {
   "cell_type": "code",
   "execution_count": 319,
   "id": "babf68b3",
   "metadata": {},
   "outputs": [],
   "source": [
    "# Imports\n",
    "import numpy as np\n",
    "import pandas as pd\n",
    "import re\n",
    "import seaborn as sns\n",
    "import scipy\n",
    "import contractions\n",
    "import matplotlib.pyplot as plt\n",
    "%matplotlib inline\n",
    "\n",
    "import spacy\n",
    "# Loading the english language small model of spaCy\n",
    "nlp = spacy.load(\"en_core_web_sm\")\n",
    "stopwords = nlp.Defaults.stop_words\n",
    "from spacy.tokenizer import Tokenizer\n",
    "tokenizer = Tokenizer(nlp.vocab)\n",
    "\n",
    "from sklearn.model_selection import train_test_split\n",
    "from sklearn.preprocessing import LabelEncoder\n",
    "from sklearn.feature_extraction.text import TfidfVectorizer\n",
    "from sklearn.metrics import classification_report\n",
    "from sklearn import svm\n",
    "from sklearn.naive_bayes import BernoulliNB\n",
    "from sklearn.model_selection import KFold\n",
    "from sklearn.model_selection import cross_val_score\n",
    "from sklearn.linear_model import LogisticRegression"
   ]
  },
  {
   "cell_type": "code",
   "execution_count": 320,
   "id": "9f0e8d9f",
   "metadata": {},
   "outputs": [
    {
     "name": "stdout",
     "output_type": "stream",
     "text": [
      "Data Set Size: (1000, 2)\n"
     ]
    }
   ],
   "source": [
    "# Reading CSV File into Pandas DataFrame\n",
    "df = pd.read_csv('Data/IMDB Dataset.csv',\n",
    "                 nrows = 1000)\n",
    "df['review'] = df['review'].str.lower()\n",
    "df['sentiment'] = df['sentiment'].str.replace('none', '')\n",
    "df['sentiment'] = df['sentiment'].fillna('')\n",
    "print('Data Set Size:', df.shape)"
   ]
  },
  {
   "cell_type": "code",
   "execution_count": 321,
   "id": "d6649da1",
   "metadata": {},
   "outputs": [],
   "source": [
    "# Label Encoding\n",
    "label_encoder = LabelEncoder()\n",
    "df['sentiment'] = label_encoder.fit_transform(df['sentiment'])\n",
    "# print(df['sentiment'])"
   ]
  },
  {
   "cell_type": "code",
   "execution_count": 322,
   "id": "4cf42955",
   "metadata": {},
   "outputs": [],
   "source": [
    "# Text Lemmatization\n",
    "def lemmatization(text):\n",
    "    doc = nlp(text)\n",
    "    temp_list = []\n",
    "    for token in doc:\n",
    "        temp_list.append(token)\n",
    "    return ' '.join(map(str, temp_list))\n",
    "\n",
    "def tokenize(text):\n",
    "    return [i.text for i in tokenizer(text)]\n",
    "\n",
    "# Stop Word Removal\n",
    "def stopword_removal(text):\n",
    "    temp_list = []\n",
    "    for item in tokenize(text):\n",
    "        if item not in stopwords:\n",
    "            temp_list.append(item)\n",
    "    return ' '.join(temp_list)"
   ]
  },
  {
   "cell_type": "code",
   "execution_count": 323,
   "id": "ea10aa8d",
   "metadata": {},
   "outputs": [],
   "source": [
    "# Pre-Process Text\n",
    "def preprocess_text(text):\n",
    "    # Removing all HTML Tags\n",
    "    text = re.sub(r'<.*?>', '', text)\n",
    "    # Removing links\n",
    "    text = re.sub(r'http\\S+', '', text)\n",
    "    # Remove Text Contractions\n",
    "    text = contractions.fix(text)\n",
    "    # Removing special characters and numbers\n",
    "    text = re.sub(r'[^A-Za-z0-9]+', ' ', text)\n",
    "    # Lemmatization\n",
    "    text = lemmatization(text)\n",
    "    # Stop word Removal\n",
    "    text = stopword_removal(text)\n",
    "    # Removing single characters\n",
    "    text = re.sub(r's+[a-zA-Z]s+', '', text)\n",
    "    # Replacing multi-spaces by a single space\n",
    "    text = re.sub(r'\\s+', ' ', text)\n",
    "    return text"
   ]
  },
  {
   "cell_type": "code",
   "execution_count": 324,
   "id": "54a4754a",
   "metadata": {},
   "outputs": [],
   "source": [
    "x = df['review']\n",
    "x_corpus = []\n",
    "for idx, row in x.items():\n",
    "    sentence = preprocess_text(row)\n",
    "    x_corpus.append(sentence)\n",
    "# print(x_corpus[0:1])\n",
    "\n",
    "y = df['sentiment']\n",
    "\n",
    "# Fit Tf-Idf Vectorizer to Training text\n",
    "vectorizer = TfidfVectorizer(ngram_range = (1, 2), \n",
    "                             min_df = 2)\n",
    "\n",
    "# x_train_vector = vectorizer.fit_transform(x_train)\n",
    "# x_test_vector = vectorizer.transform(x_test)\n",
    "# print(x_test_vector.shape)\n",
    "\n",
    "x_corpus = vectorizer.fit_transform(x_corpus)\n",
    "# print(x_corpus.shape)\n",
    "\n",
    "# Splitting the dataset into the Training set and Validation set\n",
    "np.random.seed(32)\n",
    "x_train, x_test, y_train, y_test = train_test_split(x_corpus, \n",
    "                                                    y, \n",
    "                                                    random_state = 0, \n",
    "                                                    test_size = 0.1, \n",
    "                                                    shuffle = True)\n"
   ]
  },
  {
   "cell_type": "code",
   "execution_count": 325,
   "id": "a5526d24",
   "metadata": {},
   "outputs": [
    {
     "data": {
      "image/png": "[encoded data removed]",
      "text/plain": [
       "<Figure size 640x480 with 1 Axes>"
      ]
     },
     "metadata": {},
     "output_type": "display_data"
    }
   ],
   "source": [
    "# Class Disribution in the Dataset\n",
    "def class_distribution(data):\n",
    "    count_positive = 0\n",
    "    count_negative = 0\n",
    "    for idx, row in data.items():\n",
    "        if row == 1:\n",
    "            count_positive += 1\n",
    "        else:\n",
    "            count_negative +=1\n",
    "    return count_positive, count_negative\n",
    "\n",
    "y_train_positive,  y_train_negative = class_distribution(y_train)\n",
    "y_test_positive,  y_test_negative = class_distribution(y_test)\n",
    "        \n",
    "# Plot of Class Disribution in the Dataset    \n",
    "labels = ['Training Set', 'Test Set']\n",
    "positive = [y_train_positive, y_test_positive]\n",
    "negative = [y_train_negative, y_test_negative]\n",
    "\n",
    "x = np.arange(len(labels))  # the label locations\n",
    "width = 0.3  # the width of the bars\n",
    "\n",
    "fig, ax = plt.subplots()\n",
    "rects1 = ax.bar(x - width/2, \n",
    "                positive, \n",
    "                width, \n",
    "                label='Positive(1)')\n",
    "rects2 = ax.bar(x + width/2, \n",
    "                negative, \n",
    "                width, \n",
    "                label='Negative(0)')\n",
    "\n",
    "# Add some text for labels, title and custom x-axis tick labels, etc.\n",
    "ax.set_ylabel('Count')\n",
    "ax.set_xlabel('Data Set')\n",
    "ax.set_title('Distribution of Classes')\n",
    "ax.set_xticks(x, labels)\n",
    "ax.legend()\n",
    "\n",
    "ax.bar_label(rects1, padding=3)\n",
    "ax.bar_label(rects2, padding=3)\n",
    "\n",
    "fig.tight_layout()\n",
    "\n",
    "plt.show()"
   ]
  },
  {
   "cell_type": "code",
   "execution_count": 327,
   "id": "9e508d4d",
   "metadata": {},
   "outputs": [
    {
     "name": "stdout",
     "output_type": "stream",
     "text": [
      "SVM Score:  0.79\n",
      "              precision    recall  f1-score   support\n",
      "\n",
      "           0       0.86      0.75      0.80        56\n",
      "           1       0.73      0.84      0.78        44\n",
      "\n",
      "    accuracy                           0.79       100\n",
      "   macro avg       0.79      0.80      0.79       100\n",
      "weighted avg       0.80      0.79      0.79       100\n",
      "\n"
     ]
    }
   ],
   "source": [
    "# Applying SVM to Training Text\n",
    "clf_svm = svm.SVC(kernel = 'linear')\n",
    "clf_svm.fit(x_train, y_train)\n",
    "# Evaluate SVM\n",
    "svm_predicted = clf_svm.predict(x_test)\n",
    "svm_score = clf_svm.score(x_test, y_test)\n",
    "print('SVM Score: ', svm_score)\n",
    "svm_report = classification_report(y_test, svm_predicted)\n",
    "print(svm_report)"
   ]
  },
  {
   "cell_type": "code",
   "execution_count": 340,
   "id": "2c4cda27",
   "metadata": {},
   "outputs": [
    {
     "name": "stdout",
     "output_type": "stream",
     "text": [
      "Naive Bayes Score:  0.8\n",
      "              precision    recall  f1-score   support\n",
      "\n",
      "           0       0.86      0.75      0.80        56\n",
      "           1       0.73      0.84      0.78        44\n",
      "\n",
      "    accuracy                           0.79       100\n",
      "   macro avg       0.79      0.80      0.79       100\n",
      "weighted avg       0.80      0.79      0.79       100\n",
      "\n"
     ]
    }
   ],
   "source": [
    "# Applying Naive Bayes to Training Text\n",
    "clf_naive = BernoulliNB(alpha = 1 , \n",
    "                        binarize = 0.0 , \n",
    "                        fit_prior = False , \n",
    "                        class_prior = None)\n",
    "clf_naive.fit(x_train, y_train)  \n",
    "# Evaluate NB\n",
    "nb_predicted = clf_naive.predict(x_test)\n",
    "naive_score = clf_naive.score(x_test, y_test)\n",
    "print('Naive Bayes Score: ', naive_score)\n",
    "naive_report = classification_report(y_test, nb_predicted)\n",
    "print(svm_report)"
   ]
  },
  {
   "cell_type": "code",
   "execution_count": 344,
   "id": "1985dfa2",
   "metadata": {},
   "outputs": [
    {
     "name": "stdout",
     "output_type": "stream",
     "text": [
      "Accuracy for each of the 10 Folds -> SVM:  [0.79 0.82 0.92 0.78 0.86 0.84 0.78 0.88 0.76 0.74]\n",
      "Mean Accuracy for 10 Folds -> SVM:  0.817\n"
     ]
    }
   ],
   "source": [
    "# K-Fold Cross Validation: SVM\n",
    "k_fold = KFold(n_splits = 10, \n",
    "               random_state = 0, \n",
    "               shuffle = True)\n",
    "results = cross_val_score(clf_svm,\n",
    "                         x_corpus,\n",
    "                         y,\n",
    "                         cv = k_fold)\n",
    "print('Accuracy for each of the 10 Folds -> SVM: ', results)\n",
    "print('Mean Accuracy for 10 Folds -> SVM: ', results.mean())"
   ]
  },
  {
   "cell_type": "code",
   "execution_count": null,
   "id": "559a72c4",
   "metadata": {},
   "outputs": [],
   "source": [
    "# K-Fold Cross Validation: Naive Bayes\n",
    "k_fold = KFold(n_splits = 10, \n",
    "               random_state = 0, \n",
    "               shuffle = True)\n",
    "results = cross_val_score(clf_svm,\n",
    "                         x_corpus,\n",
    "                         y,\n",
    "                         cv = k_fold)\n",
    "print('Accuracy for each of the 10 Folds -> SVM: ', results)\n",
    "print('Mean Accuracy for 10 Folds -> SVM: ', results.mean())"
   ]
  }
 ],
 "metadata": {
  "kernelspec": {
   "display_name": "Python 3 (ipykernel)",
   "language": "python",
   "name": "python3"
  },
  "language_info": {
   "codemirror_mode": {
    "name": "ipython",
    "version": 3
   },
   "file_extension": ".py",
   "mimetype": "text/x-python",
   "name": "python",
   "nbconvert_exporter": "python",
   "pygments_lexer": "ipython3",
   "version": "3.10.7"
  }
 },
 "nbformat": 4,
 "nbformat_minor": 5
}
